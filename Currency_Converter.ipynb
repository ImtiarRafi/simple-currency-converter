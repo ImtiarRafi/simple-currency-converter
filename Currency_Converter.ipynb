{
  "nbformat": 4,
  "nbformat_minor": 0,
  "metadata": {
    "colab": {
      "provenance": []
    },
    "kernelspec": {
      "name": "python3",
      "display_name": "Python 3"
    },
    "language_info": {
      "name": "python"
    }
  },
  "cells": [
    {
      "cell_type": "code",
      "source": [
        "def bdt_to_usd(b):\n",
        "  u = b/115\n",
        "  return u"
      ],
      "metadata": {
        "id": "UJyrtLr00XmT"
      },
      "execution_count": 1,
      "outputs": []
    },
    {
      "cell_type": "code",
      "source": [
        "def usd_to_bdt(u):\n",
        "  b = u*115\n",
        "  return b"
      ],
      "metadata": {
        "id": "4Sio01_i0Yrw"
      },
      "execution_count": 2,
      "outputs": []
    },
    {
      "cell_type": "code",
      "source": [
        "def bdt_to_pound(b):\n",
        "  p = b/139\n",
        "  return p"
      ],
      "metadata": {
        "id": "kqEMWQ3k0eQG"
      },
      "execution_count": 3,
      "outputs": []
    },
    {
      "cell_type": "code",
      "source": [
        "def pound_to_bdt(p):\n",
        "  b = p*139\n",
        "  return b\n"
      ],
      "metadata": {
        "id": "_iVYUnZx0jo8"
      },
      "execution_count": 4,
      "outputs": []
    },
    {
      "cell_type": "code",
      "source": [
        "def bdt_to_euro(b):\n",
        "  e = b/119\n",
        "  return e"
      ],
      "metadata": {
        "id": "y1DA6JfY0m6x"
      },
      "execution_count": 5,
      "outputs": []
    },
    {
      "cell_type": "code",
      "source": [
        "def euro_to_bdt(e):\n",
        "  b = e*119\n",
        "  return b"
      ],
      "metadata": {
        "id": "TbQ5cCK6D2Qf"
      },
      "execution_count": 6,
      "outputs": []
    },
    {
      "cell_type": "code",
      "source": [
        "def bdt_to_cad(b):\n",
        "  c = b/82\n",
        "  return c"
      ],
      "metadata": {
        "id": "iUmFHxaNEBG-"
      },
      "execution_count": 7,
      "outputs": []
    },
    {
      "cell_type": "code",
      "source": [
        "def cad_to_bdt(c):\n",
        "  b = c*82\n",
        "  return b"
      ],
      "metadata": {
        "id": "2LwrvJqhEP9P"
      },
      "execution_count": 8,
      "outputs": []
    },
    {
      "cell_type": "code",
      "source": [
        "def usd_to_pound(u):\n",
        "  p = u*0.80\n",
        "  return p"
      ],
      "metadata": {
        "id": "MEF3DXIVxyNW"
      },
      "execution_count": 9,
      "outputs": []
    },
    {
      "cell_type": "code",
      "source": [
        "def pound_to_usd(p):\n",
        "  u = p*1.26\n",
        "  return u"
      ],
      "metadata": {
        "id": "KxekgvoOyBpG"
      },
      "execution_count": 10,
      "outputs": []
    },
    {
      "cell_type": "code",
      "source": [
        "def usd_to_euro(u):\n",
        "  e = u*0.93\n",
        "  return e"
      ],
      "metadata": {
        "id": "zRws7WmYzQMy"
      },
      "execution_count": 11,
      "outputs": []
    },
    {
      "cell_type": "code",
      "source": [
        "def euro_to_usd(e):\n",
        "  u = e*1.08\n",
        "  return u"
      ],
      "metadata": {
        "id": "Iark1RXQziEw"
      },
      "execution_count": 12,
      "outputs": []
    },
    {
      "cell_type": "code",
      "source": [
        "def usd_to_euro(u):\n",
        "  e = u*0.93\n",
        "  return e"
      ],
      "metadata": {
        "id": "AVQ6Y0Oc0CDp"
      },
      "execution_count": 13,
      "outputs": []
    },
    {
      "cell_type": "code",
      "source": [
        "def usd_to_cad(u):\n",
        "  c = u*1.36\n",
        "  return c"
      ],
      "metadata": {
        "id": "N4gMx1Hx0Gto"
      },
      "execution_count": 14,
      "outputs": []
    },
    {
      "cell_type": "code",
      "source": [
        "def cad_to_usd(c):\n",
        "  u = c*0.74\n",
        "  return u"
      ],
      "metadata": {
        "id": "BiVvndSl0L9g"
      },
      "execution_count": 15,
      "outputs": []
    },
    {
      "cell_type": "code",
      "source": [
        "def pound_to_euro(p):\n",
        "  e = p*1.17\n",
        "  return e"
      ],
      "metadata": {
        "id": "TUG3C3mi0aEk"
      },
      "execution_count": 16,
      "outputs": []
    },
    {
      "cell_type": "code",
      "source": [
        "def euro_to_pound(e):\n",
        "  p = e*0.86\n",
        "  return p"
      ],
      "metadata": {
        "id": "Gdv4lBQr0kqi"
      },
      "execution_count": 17,
      "outputs": []
    },
    {
      "cell_type": "code",
      "source": [
        "def pound_to_cad(p):\n",
        "  c = p*1.71\n",
        "  return c"
      ],
      "metadata": {
        "id": "Mvl6qcSd01g0"
      },
      "execution_count": 18,
      "outputs": []
    },
    {
      "cell_type": "code",
      "source": [
        "def cad_to_pound(c):\n",
        "  p = c*0.59\n",
        "  return p"
      ],
      "metadata": {
        "id": "zkfmdEGr09CP"
      },
      "execution_count": 19,
      "outputs": []
    },
    {
      "cell_type": "code",
      "source": [
        "def euro_to_cad(e):\n",
        "  c = e*1.46\n",
        "  return c"
      ],
      "metadata": {
        "id": "SlP2KZky1kok"
      },
      "execution_count": 20,
      "outputs": []
    },
    {
      "cell_type": "code",
      "source": [
        "def cad_to_euro(c):\n",
        "  e = c*0.68\n",
        "  return e"
      ],
      "metadata": {
        "id": "r4kqL9kp1ZJp"
      },
      "execution_count": 21,
      "outputs": []
    },
    {
      "cell_type": "code",
      "source": [
        " def main():\n",
        "  print('   Welcome to the Currency Converter   ')\n",
        "\n",
        "\n",
        "  currency = input('What is your Currency?\\nPress 1 for Bdt\\nPress 2 for Dollar\\nPress 3 for Pound\\nPress 4 for Euro\\nPress 5 for Canadian Dollar\\n')\n",
        "\n",
        "  amount = float(input('Enter your amount : '))\n",
        "\n",
        "  convert_currency = input('What Currency do you want to convert to?\\nPress 1 for Bdt\\nPress 2 for Dollar\\nPress 3 for Pound\\nPress 4 for Euro\\nPress 5 for Canadian Dollar\\n')\n",
        "\n",
        "  if currency == '1' and convert_currency == '2':\n",
        "    converted_amount = bdt_to_usd(amount)\n",
        "    print('Amount in usd : ',converted_amount)\n",
        "\n",
        "  elif currency == '2' and convert_currency == '1':\n",
        "    converted_amount = usd_to_bdt(amount)\n",
        "    print('Amount in bdt : ',converted_amount)\n",
        "\n",
        "  elif currency == '1' and convert_currency == '3':\n",
        "    converted_amount = bdt_to_pound(amount)\n",
        "    print('Amount in pound : ',converted_amount)\n",
        "\n",
        "  elif currency == '3' and convert_currency == '1':\n",
        "    converted_amount = pound_to_bdt(amount)\n",
        "    print('Amount in bdt : ',converted_amount)\n",
        "\n",
        "  elif currency == '1' and convert_currency == '4':\n",
        "    converted_amount = bdt_to_euro(amount)\n",
        "    print('Amount in euro : ',converted_amount)\n",
        "\n",
        "  elif currency == '4' and convert_currency == '1':\n",
        "    converted_amount = euro_to_bdt(amount)\n",
        "    print('Amount in bdt : ',converted_amount)\n",
        "\n",
        "  elif currency == '1' and convert_currency == '5':\n",
        "    converted_amount = bdt_to_cad(amount)\n",
        "    print('Amount in cad : ',converted_amount)\n",
        "\n",
        "  elif currency == '5' and convert_currency == '1':\n",
        "    converted_amount = cad_to_bdt(amount)\n",
        "    print('Amount in bdt : ',converted_amount)\n",
        "\n",
        "  elif currency == '2' and convert_currency == '3':\n",
        "    converted_amount = usd_to_pound(amount)\n",
        "    print('Amount in pound : ',converted_amount)\n",
        "\n",
        "  elif currency == '3' and convert_currency == '2':\n",
        "    converted_amount = pound_to_usd(amount)\n",
        "    print('Amount in usd : ',converted_amount)\n",
        "\n",
        "  elif currency == '2' and convert_currency == '4':\n",
        "    converted_amount = usd_to_euro(amount)\n",
        "    print('Amount in euro : ',converted_amount)\n",
        "\n",
        "  elif currency == '4' and convert_currency == '2':\n",
        "    converted_amount = euro_to_usd(amount)\n",
        "    print('Amount in usd : ',converted_amount)\n",
        "\n",
        "  elif currency == '2' and convert_currency == '5':\n",
        "    converted_amount = usd_to_cad(amount)\n",
        "    print('Amount in cad : ',converted_amount)\n",
        "\n",
        "  elif currency == '5' and convert_currency == '2':\n",
        "    converted_amount = cad_to_usd(amount)\n",
        "    print('Amount in usd : ',converted_amount)\n",
        "\n",
        "  elif currency == '3' and convert_currency == '4':\n",
        "    converted_amount = pound_to_euro(amount)\n",
        "    print('Amount in euro : ',converted_amount)\n",
        "\n",
        "  elif currency == '4' and convert_currency == '3':\n",
        "    converted_amount = euro_to_pound(amount)\n",
        "    print('Amount in pound : ',converted_amount)\n",
        "\n",
        "  elif currency == '3' and convert_currency == '5':\n",
        "    converted_amount = pound_to_cad(amount)\n",
        "    print('Amount in cad : ',converted_amount)\n",
        "\n",
        "  elif currency == '5' and convert_currency == '3':\n",
        "    converted_amount = cad_to_pound(amount)\n",
        "    print('Amount in pound : ',converted_amount)\n",
        "\n",
        "  elif currency == '4' and convert_currency == '5':\n",
        "    converted_amount = euro_to_cad(amount)\n",
        "    print('Amount in cad : ',converted_amount)\n",
        "\n",
        "  elif currency == '5' and convert_currency == '4':\n",
        "    converted_amount = cad_to_euro(amount)\n",
        "    print('Amount in euro : ',converted_amount)\n",
        "\n",
        "  elif currency == convert_currency:\n",
        "    print('You entered the same currency twice')\n",
        "\n",
        "  else:\n",
        "    print('Please Press 1-5')\n"
      ],
      "metadata": {
        "id": "13CmRyJ04gSk"
      },
      "execution_count": 22,
      "outputs": []
    },
    {
      "cell_type": "code",
      "source": [
        "if __name__ == '__main__':\n",
        "  main()\n",
        ""
      ],
      "metadata": {
        "colab": {
          "base_uri": "https://localhost:8080/"
        },
        "id": "ZD5xb-aZw0s7",
        "outputId": "25423f4b-3a37-4218-e4ce-6cca8bd369ff"
      },
      "execution_count": 25,
      "outputs": [
        {
          "output_type": "stream",
          "name": "stdout",
          "text": [
            "   Welcome to the Currency Converter   \n",
            "What is your Currency?\n",
            "Press 1 for Bdt\n",
            "Press 2 for Dollar\n",
            "Press 3 for Pound\n",
            "Press 4 for Euro\n",
            "Press 5 for Canadian Dollar\n",
            "4\n",
            "Enter your amount : 200\n",
            "What Currency do you want to convert to?\n",
            "Press 1 for Bdt\n",
            "Press 2 for Dollar\n",
            "Press 3 for Pound\n",
            "Press 4 for Euro\n",
            "Press 5 for Canadian Dollar\n",
            "2\n",
            "Amount in usd :  216.0\n"
          ]
        }
      ]
    }
  ]
}